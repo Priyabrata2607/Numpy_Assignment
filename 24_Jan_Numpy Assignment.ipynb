{
 "cells": [
  {
   "cell_type": "markdown",
   "id": "f2cf29bb",
   "metadata": {},
   "source": [
    "# Numpy Assignments"
   ]
  },
  {
   "cell_type": "markdown",
   "id": "0aca565b",
   "metadata": {},
   "source": [
    "1. What is a Python library? Why do we use Python libraries?"
   ]
  },
  {
   "cell_type": "markdown",
   "id": "39dde842",
   "metadata": {},
   "source": [
    "A Python library is a collection of modules and functions that extend the capabilities of the Python programming language. Libraries are designed to be reusable pieces of code that can be easily integrated into your own programs. They provide pre-written functionality to help you perform tasks without having to write the code from scratch.\n",
    "\n",
    "Some Examples are:\n",
    "Numpy,Pandas,Matplotlib,Requests etc..\n",
    "\n",
    "Here are some reasons why do we use Python Libraries:-\n",
    "\n",
    "i.Code Reusibility:-Libraries contain pre-written code, saving developers time and effort by allowing them to reuse existing solutions rather than reinventing the wheel.\n",
    "\n",
    "ii.Productivity: Libraries provide abstractions and high-level interfaces, making complex tasks simpler and more manageable. This improves overall development speed.\n",
    "\n",
    "iii.Specialized Functionality: Many libraries are designed to solve specific problems or provide specialized functionality. Using these libraries allows developers to leverage the expertise of those who created them.\n",
    "\n",
    "iv.Performance Optimization: Libraries often include optimized code and algorithms, resulting in better performance than if you were to implement the same functionality manually."
   ]
  },
  {
   "cell_type": "markdown",
   "id": "ff6e082e",
   "metadata": {},
   "source": [
    "2. What is the difference between Numpy array and List?"
   ]
  },
  {
   "cell_type": "markdown",
   "id": "5e840e27",
   "metadata": {},
   "source": [
    "The difference between Numpy array and Python Lists are:\n",
    "\n",
    "i.Data Type:-\n",
    "\n",
    ".NumPy arrays are homogeneous, meaning all elements of the array must be of the same data type. This allows for more efficient storage and operations.\n",
    "\n",
    ".Python lists can contain elements of different data types, making them more flexible but potentially less memory-efficient for numerical operations.\n",
    "\n",
    "ii.Performance:-\n",
    "\n",
    ".NumPy arrays are implemented in C and provide better performance for numerical operations compared to Python lists. NumPy operations are often faster because they are optimized and performed at the C level.\n",
    "\n",
    ".Python lists are more general-purpose and versatile but may be slower for numerical computations, especially when dealing with large datasets.\n",
    "\n",
    "iii.Memory Overhead:-\n",
    "\n",
    ".NumPy arrays have less memory overhead compared to Python lists. NumPy uses a fixed, pre-allocated block of memory, whereas Python lists need additional memory for each element and its associated Python object overhead.\n",
    "\n",
    ".NumPy arrays are more memory-efficient when dealing with large datasets.\n",
    "\n",
    "iv.Syntax:-\n",
    "\n",
    ".NumPy syntax is more concise and optimized for numerical operations, making it easier to work with large datasets and perform complex mathematical computations.\n",
    "\n",
    ".Python lists have a simpler syntax and are easier to use for general-purpose tasks. They are more intuitive for beginners but may be less efficient for certain numerical operations."
   ]
  },
  {
   "cell_type": "markdown",
   "id": "5573fadd",
   "metadata": {},
   "source": [
    "3. Find the shape, size and dimension of the following array?\n",
    "\n",
    "[[1, 2, 3, 4]\n",
    "\n",
    "[5, 6, 7, 8],\n",
    "\n",
    "[9, 10, 11, 12]]\n",
    "\n"
   ]
  },
  {
   "cell_type": "code",
   "execution_count": 5,
   "id": "1c52c5b3",
   "metadata": {},
   "outputs": [
    {
     "name": "stdout",
     "output_type": "stream",
     "text": [
      "Shape of the array: (3, 4)\n",
      "Size of the array: 12\n",
      "Dimension of the array: 2\n"
     ]
    }
   ],
   "source": [
    "import numpy as np\n",
    "\n",
    "array=np.array([[1,2,3,4],[5,6,7,8],[9,10,11,12]])\n",
    "\n",
    "shape=array.shape\n",
    "size=array.size\n",
    "dimension=array.ndim\n",
    "\n",
    "print(\"Shape of the array:\",shape)\n",
    "print(\"Size of the array:\",size)\n",
    "print(\"Dimension of the array:\",dimension)"
   ]
  },
  {
   "cell_type": "markdown",
   "id": "4e243646",
   "metadata": {},
   "source": [
    "4. Write python code to access the first row of the following array?\n",
    "\n",
    " [[1, 2, 3, 4]\n",
    "\n",
    "[5, 6, 7, 8],\n",
    "\n",
    "[9, 10, 11, 12]]"
   ]
  },
  {
   "cell_type": "code",
   "execution_count": 7,
   "id": "6f64f2c9",
   "metadata": {},
   "outputs": [
    {
     "name": "stdout",
     "output_type": "stream",
     "text": [
      "The first row of the array: [1 2 3 4]\n"
     ]
    }
   ],
   "source": [
    "import numpy as np\n",
    "\n",
    "my_array=np.array([[1,2,3,4],[5,6,7,8],[9,10,11,12]])\n",
    "\n",
    "first_row=my_array[0]\n",
    "print(\"The first row of the array:\",first_row)"
   ]
  },
  {
   "cell_type": "markdown",
   "id": "279f3bc5",
   "metadata": {},
   "source": [
    "5. How do you access the element at the third row and fourth column from the given numpy array?\n",
    "\n",
    " [[1, 2, 3, 4]\n",
    "\n",
    "[5, 6, 7, 8],\n",
    "\n",
    "[9, 10, 11, 12]]\n",
    "\n"
   ]
  },
  {
   "cell_type": "code",
   "execution_count": 8,
   "id": "705713ec",
   "metadata": {},
   "outputs": [
    {
     "name": "stdout",
     "output_type": "stream",
     "text": [
      "The third row and fourth column element: 12\n"
     ]
    }
   ],
   "source": [
    "import numpy as np\n",
    "\n",
    "my_array=np.array([[1,2,3,4],[5,6,7,8],[9,10,11,12]])\n",
    "\n",
    "specified_ele=my_array[2][3]\n",
    "print(\"The third row and fourth column element:\",specified_ele)"
   ]
  },
  {
   "cell_type": "markdown",
   "id": "cd05d447",
   "metadata": {},
   "source": [
    "6. Write code to extract all odd-indexed elements from the given numpy array?\n",
    "\n",
    " [[1, 2, 3, 4]\n",
    "\n",
    "[5, 6, 7, 8],\n",
    "\n",
    "[9, 10, 11, 12]]\n",
    "\n"
   ]
  },
  {
   "cell_type": "code",
   "execution_count": 10,
   "id": "0a26f1b5",
   "metadata": {},
   "outputs": [
    {
     "name": "stdout",
     "output_type": "stream",
     "text": [
      "Odd indexed elements: [[ 2  4]\n",
      " [ 6  8]\n",
      " [10 12]]\n"
     ]
    }
   ],
   "source": [
    "my_arr=np.array([[1,2,3,4],[5,6,7,8],[9,10,11,12]])\n",
    "odd_indexed_ele=my_arr[:,1::2]\n",
    "print('Odd indexed elements:',odd_indexed_ele)"
   ]
  },
  {
   "cell_type": "markdown",
   "id": "33385be5",
   "metadata": {},
   "source": [
    "7. How can you generate a random 3x3 matrix with values between 0 and 1?"
   ]
  },
  {
   "cell_type": "code",
   "execution_count": 14,
   "id": "cb174200",
   "metadata": {},
   "outputs": [
    {
     "name": "stdout",
     "output_type": "stream",
     "text": [
      "Random 3x3 matrix between the values of 0 and 1 is:\n",
      "[[0.85366911 0.85838637 0.51700885]\n",
      " [0.10053196 0.98542971 0.71847276]\n",
      " [0.11037523 0.83228791 0.06053277]]\n"
     ]
    }
   ],
   "source": [
    "random_matrix=np.random.rand(3,3)\n",
    "print(\"Random 3x3 matrix between the values of 0 and 1 is:\")\n",
    "print(random_matrix)"
   ]
  },
  {
   "cell_type": "markdown",
   "id": "212244ef",
   "metadata": {},
   "source": [
    "8. Describe the difference between np.random.rand and np.random.randn?"
   ]
  },
  {
   "cell_type": "markdown",
   "id": "716fa2ce",
   "metadata": {},
   "source": [
    "The difference between np.random.rand and np.random.randn is\n",
    "\n",
    "np.random.rand:-\n",
    ".This function generates random values from a uniform distribution over the interval [0, 1).\n",
    "\n",
    ".The returned values are in the half-open interval [0, 1), meaning that 0 is included while 1 is excluded.\n",
    "\n",
    "np.random.randn:-\n",
    "\n",
    ".This function generates random values from a standard normal distribution (mean=0, standard deviation=1).\n",
    "\n",
    ".The returned values have a mean of 0 and a standard deviation of 1."
   ]
  },
  {
   "cell_type": "markdown",
   "id": "358488bd",
   "metadata": {},
   "source": [
    "9. Write code to increase the dimension of the following array?\n",
    "\n",
    " [[1, 2, 3, 4]\n",
    "\n",
    "[5, 6, 7, 8],\n",
    "\n",
    "[9, 10, 11, 12]]"
   ]
  },
  {
   "cell_type": "code",
   "execution_count": 17,
   "id": "99622d17",
   "metadata": {},
   "outputs": [
    {
     "name": "stdout",
     "output_type": "stream",
     "text": [
      "original array: [[ 1  2  3  4]\n",
      " [ 5  6  7  8]\n",
      " [ 9 10 11 12]]\n",
      "After extending dimensions\n",
      "[[[ 1  2  3  4]]\n",
      "\n",
      " [[ 5  6  7  8]]\n",
      "\n",
      " [[ 9 10 11 12]]]\n"
     ]
    }
   ],
   "source": [
    "arr=np.array([[1, 2, 3, 4],[5, 6, 7, 8],[9, 10, 11, 12]])\n",
    "\n",
    "extendend_dim=np.expand_dims(arr,axis=1)\n",
    "print(\"original array:\",arr)\n",
    "print(\"After extending dimensions\")\n",
    "print(extendend_dim)"
   ]
  },
  {
   "cell_type": "markdown",
   "id": "f0d957fd",
   "metadata": {},
   "source": [
    "10. How to transpose the following array in NumPy?\n",
    "\n",
    " [[1, 2, 3, 4]\n",
    "\n",
    "[5, 6, 7, 8],\n",
    "\n",
    "[9, 10, 11, 12]]\n",
    "\n",
    "\n"
   ]
  },
  {
   "cell_type": "code",
   "execution_count": 20,
   "id": "53016101",
   "metadata": {},
   "outputs": [
    {
     "name": "stdout",
     "output_type": "stream",
     "text": [
      "The original array:\n",
      "[[ 1  2  3  4]\n",
      " [ 5  6  7  8]\n",
      " [ 9 10 11 12]]\n",
      "The transpose array:\n",
      "[[ 1  5  9]\n",
      " [ 2  6 10]\n",
      " [ 3  7 11]\n",
      " [ 4  8 12]]\n"
     ]
    }
   ],
   "source": [
    "original_arr=np.array([[1,2,3,4],[5,6,7,8],[9,10,11,12]])\n",
    "transpose_arr=original_arr.T\n",
    "print(\"The original array:\")\n",
    "print(original_arr)\n",
    "print(\"The transpose array:\")\n",
    "print(transpose_arr)"
   ]
  },
  {
   "cell_type": "markdown",
   "id": "5a4133d8",
   "metadata": {},
   "source": [
    "11. Consider the following matrix:\n",
    "\n",
    "Matrix A: [[1, 2, 3, 4] [5, 6, 7, 8],[9, 10, 11, 12]]\n",
    "    \n",
    "Matrix B: [[1, 2, 3, 4] [5, 6, 7, 8],[9, 10, 11, 12]]\n",
    "    \n",
    "\n",
    "Perform the following operation using Python\n",
    "\n",
    "i.Index wise multiplication\n",
    "\n",
    "ii.Matrix multiplication\n",
    "\n",
    "iii.Add both the matrics\n",
    "\n",
    "iv.Subtract matrix B from A\n",
    "\n",
    "v.Divide Matrix B by A\n",
    "\n"
   ]
  },
  {
   "cell_type": "code",
   "execution_count": 24,
   "id": "524f64b9",
   "metadata": {},
   "outputs": [
    {
     "name": "stdout",
     "output_type": "stream",
     "text": [
      "Matrix A:\n",
      "[[ 1  2  3  4]\n",
      " [ 5  6  7  8]\n",
      " [ 9 10 11 12]]\n",
      "Matrix B:\n",
      "[[ 1  2  3  4]\n",
      " [ 5  6  7  8]\n",
      " [ 9 10 11 12]]\n",
      "The index wise multiplication:\n",
      "[[  1   4   9  16]\n",
      " [ 25  36  49  64]\n",
      " [ 81 100 121 144]]\n",
      "After Adding Both Matrix:\n",
      "[[ 2  4  6  8]\n",
      " [10 12 14 16]\n",
      " [18 20 22 24]]\n",
      "After Substracting B From A:\n",
      "[[0 0 0 0]\n",
      " [0 0 0 0]\n",
      " [0 0 0 0]]\n",
      "After dividing Matrix B by A:\n",
      "[[1. 1. 1. 1.]\n",
      " [1. 1. 1. 1.]\n",
      " [1. 1. 1. 1.]]\n"
     ]
    }
   ],
   "source": [
    "Mat_A=np.array([[1,2,3,4],[5,6,7,8],[9,10,11,12]])\n",
    "Mat_B=np.array([[1,2,3,4],[5,6,7,8],[9,10,11,12]])\n",
    "print(\"Matrix A:\")\n",
    "print(Mat_A)\n",
    "print(\"Matrix B:\")\n",
    "print(Mat_B)\n",
    "#Index Wise Multiplication\n",
    "Index_wise_Mul=Mat_A*Mat_B\n",
    "\n",
    "print(\"The index wise multiplication:\")\n",
    "print(Index_wise_Mul)\n",
    "\n",
    "#Matrix Multiplication\n",
    "#The Question is Wrong As the Matrix Multiplication cannot be done in such dimensions\n",
    "\n",
    "#Add Both Matrics\n",
    "Addition=Mat_A+Mat_B\n",
    "print(\"After Adding Both Matrix:\")\n",
    "print(Addition)\n",
    "\n",
    "#Subtract Matrix B from A\n",
    "subtract=Mat_A-Mat_B\n",
    "print(\"After Substracting B From A:\")\n",
    "print(subtract)\n",
    "\n",
    "#Divide Matrix B by A\n",
    "divide=Mat_B/Mat_A\n",
    "print(\"After dividing Matrix B by A:\")\n",
    "print(divide)"
   ]
  },
  {
   "cell_type": "markdown",
   "id": "c13d3ece",
   "metadata": {},
   "source": [
    "12. Which function in Numpy can be used to swap the byte order of an array?"
   ]
  },
  {
   "cell_type": "markdown",
   "id": "b027e3bb",
   "metadata": {},
   "source": [
    "In NumPy, the byteswap() function can be used to swap the byte order of an array. This function changes the endianness (byte order) of the array elements. It is useful when working with binary data and dealing with systems that have different endianness.\n",
    "\n",
    "Example:-"
   ]
  },
  {
   "cell_type": "code",
   "execution_count": 25,
   "id": "ff91a658",
   "metadata": {},
   "outputs": [
    {
     "name": "stdout",
     "output_type": "stream",
     "text": [
      "Original Array:\n",
      " [1 2 3 4]\n",
      "Swapped Byte Order Array:\n",
      " [16777216 33554432 50331648 67108864]\n"
     ]
    }
   ],
   "source": [
    "original_array = np.array([1, 2, 3, 4], dtype=np.int32)\n",
    "\n",
    "swapped_array = original_array.byteswap()\n",
    "\n",
    "print(\"Original Array:\\n\", original_array)\n",
    "print(\"Swapped Byte Order Array:\\n\", swapped_array)"
   ]
  },
  {
   "cell_type": "markdown",
   "id": "5d71b993",
   "metadata": {},
   "source": [
    "13. What is the significance of the np.linalg.inv function?"
   ]
  },
  {
   "cell_type": "markdown",
   "id": "41dfdb30",
   "metadata": {},
   "source": [
    "The np.linalg.inv function in NumPy is used to compute the multiplicative inverse of a matrix. \n",
    "\n",
    "Specifically, given a square matrix A, the function returns another matrix A_inv such that the product of A and A_inv is the identity matrix.\n",
    "\n",
    "Example:-"
   ]
  },
  {
   "cell_type": "code",
   "execution_count": 27,
   "id": "b274f4a8",
   "metadata": {},
   "outputs": [
    {
     "name": "stdout",
     "output_type": "stream",
     "text": [
      "Original Matrix A:\n",
      " [[4 7]\n",
      " [2 6]]\n",
      "Inverse Matrix A_inv:\n",
      " [[ 0.6 -0.7]\n",
      " [-0.2  0.4]]\n",
      "Verification (A * A_inv):\n",
      " [[ 1.00000000e+00 -1.11022302e-16]\n",
      " [ 1.11022302e-16  1.00000000e+00]]\n"
     ]
    }
   ],
   "source": [
    "A = np.array([[4, 7],\n",
    "              [2, 6]])\n",
    "\n",
    "A_inv = np.linalg.inv(A)\n",
    "\n",
    "identity_matrix = np.dot(A, A_inv)\n",
    "\n",
    "print(\"Original Matrix A:\\n\", A)\n",
    "print(\"Inverse Matrix A_inv:\\n\", A_inv)\n",
    "print(\"Verification (A * A_inv):\\n\", identity_matrix)\n"
   ]
  },
  {
   "cell_type": "markdown",
   "id": "0f2ebccc",
   "metadata": {},
   "source": [
    "14. What does the np.reshape function do, and how is it used?"
   ]
  },
  {
   "cell_type": "markdown",
   "id": "57775da3",
   "metadata": {},
   "source": [
    "The np.reshape function in NumPy is used to change the shape of an array without changing its data. It allows you to specify the new shape (dimensions) that you want for the array. The reshaping operation creates a new view of the original array with the specified shape, and it does not modify the original array's data.\n",
    "\n",
    "The basic Syntax is numpy.reshape(array,newshape)\n",
    "\n",
    "Example:-"
   ]
  },
  {
   "cell_type": "code",
   "execution_count": 28,
   "id": "48c69685",
   "metadata": {},
   "outputs": [
    {
     "name": "stdout",
     "output_type": "stream",
     "text": [
      "Original Array (1D):\n",
      " [ 0  1  2  3  4  5  6  7  8  9 10 11]\n",
      "\n",
      "Reshaped Array (3x4):\n",
      " [[ 0  1  2  3]\n",
      " [ 4  5  6  7]\n",
      " [ 8  9 10 11]]\n"
     ]
    }
   ],
   "source": [
    "original_array = np.arange(12)\n",
    "\n",
    "reshaped_array = np.reshape(original_array, (3, 4))\n",
    "\n",
    "print(\"Original Array (1D):\\n\", original_array)\n",
    "print(\"\\nReshaped Array (3x4):\\n\", reshaped_array)\n"
   ]
  },
  {
   "cell_type": "markdown",
   "id": "cf16c4a8",
   "metadata": {},
   "source": [
    "15. What is broadcasting in Numpy?\n"
   ]
  },
  {
   "cell_type": "markdown",
   "id": "d4486520",
   "metadata": {},
   "source": [
    "Broadcasting in NumPy is a powerful mechanism that allows arrays of different shapes to be combined and operated upon. It provides a way to perform element-wise operations on arrays of different shapes without explicitly reshaping them. Broadcasting automatically expands the smaller array to match the shape of the larger one, making certain operations more convenient and efficient.\n",
    "\n",
    "Example:-"
   ]
  },
  {
   "cell_type": "code",
   "execution_count": 29,
   "id": "c0bc58a5",
   "metadata": {},
   "outputs": [
    {
     "name": "stdout",
     "output_type": "stream",
     "text": [
      "Original Matrix:\n",
      " [[1 2 3]\n",
      " [4 5 6]\n",
      " [7 8 9]]\n",
      "\n",
      "Row Addition using Broadcasting:\n",
      " [[11 22 33]\n",
      " [14 25 36]\n",
      " [17 28 39]]\n"
     ]
    }
   ],
   "source": [
    "matrix = np.array([[1, 2, 3], [4, 5, 6], [7, 8, 9]])\n",
    "row_addition = matrix + np.array([10, 20, 30])\n",
    "print(\"Original Matrix:\\n\", matrix)\n",
    "print(\"\\nRow Addition using Broadcasting:\\n\", row_addition)"
   ]
  },
  {
   "cell_type": "code",
   "execution_count": null,
   "id": "2c5b80f9",
   "metadata": {},
   "outputs": [],
   "source": []
  }
 ],
 "metadata": {
  "kernelspec": {
   "display_name": "Python 3 (ipykernel)",
   "language": "python",
   "name": "python3"
  },
  "language_info": {
   "codemirror_mode": {
    "name": "ipython",
    "version": 3
   },
   "file_extension": ".py",
   "mimetype": "text/x-python",
   "name": "python",
   "nbconvert_exporter": "python",
   "pygments_lexer": "ipython3",
   "version": "3.11.5"
  }
 },
 "nbformat": 4,
 "nbformat_minor": 5
}
