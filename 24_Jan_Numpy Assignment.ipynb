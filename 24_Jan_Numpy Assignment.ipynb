{
 "cells": [
  {
   "cell_type": "markdown",
   "id": "907b0238",
   "metadata": {},
   "source": [
    "# Numpy Assignments"
   ]
  },
  {
   "cell_type": "markdown",
   "id": "a5a38232",
   "metadata": {},
   "source": [
    "1. What is a Python library? Why do we use Python libraries?"
   ]
  },
  {
   "cell_type": "markdown",
   "id": "6b17a46e",
   "metadata": {},
   "source": [
    "A Python library is a collection of modules and functions that extend the capabilities of the Python programming language. Libraries are designed to be reusable pieces of code that can be easily integrated into your own programs. They provide pre-written functionality to help you perform tasks without having to write the code from scratch.\n",
    "\n",
    "Some Examples are:\n",
    "Numpy,Pandas,Matplotlib,Requests etc..\n",
    "\n",
    "Here are some reasons why do we use Python Libraries:-\n",
    "\n",
    "i.Code Reusibility:-Libraries contain pre-written code, saving developers time and effort by allowing them to reuse existing solutions rather than reinventing the wheel.\n",
    "\n",
    "ii.Productivity: Libraries provide abstractions and high-level interfaces, making complex tasks simpler and more manageable. This improves overall development speed.\n",
    "\n",
    "iii.Specialized Functionality: Many libraries are designed to solve specific problems or provide specialized functionality. Using these libraries allows developers to leverage the expertise of those who created them.\n",
    "\n",
    "iv.Performance Optimization: Libraries often include optimized code and algorithms, resulting in better performance than if you were to implement the same functionality manually."
   ]
  },
  {
   "cell_type": "markdown",
   "id": "76a896e3",
   "metadata": {},
   "source": [
    "2. What is the difference between Numpy array and List?"
   ]
  },
  {
   "cell_type": "markdown",
   "id": "ac363191",
   "metadata": {},
   "source": [
    "The difference between Numpy array and Python Lists are:\n",
    "\n",
    "i.Data Type:-\n",
    "\n",
    ".NumPy arrays are homogeneous, meaning all elements of the array must be of the same data type. This allows for more efficient storage and operations.\n",
    "\n",
    ".Python lists can contain elements of different data types, making them more flexible but potentially less memory-efficient for numerical operations.\n",
    "\n",
    "ii.Performance:-\n",
    "\n",
    ".NumPy arrays are implemented in C and provide better performance for numerical operations compared to Python lists. NumPy operations are often faster because they are optimized and performed at the C level.\n",
    "\n",
    ".Python lists are more general-purpose and versatile but may be slower for numerical computations, especially when dealing with large datasets.\n",
    "\n",
    "iii.Memory Overhead:-\n",
    "\n",
    ".NumPy arrays have less memory overhead compared to Python lists. NumPy uses a fixed, pre-allocated block of memory, whereas Python lists need additional memory for each element and its associated Python object overhead.\n",
    "\n",
    ".NumPy arrays are more memory-efficient when dealing with large datasets.\n",
    "\n",
    "iv.Syntax:-\n",
    "\n",
    ".NumPy syntax is more concise and optimized for numerical operations, making it easier to work with large datasets and perform complex mathematical computations.\n",
    "\n",
    ".Python lists have a simpler syntax and are easier to use for general-purpose tasks. They are more intuitive for beginners but may be less efficient for certain numerical operations."
   ]
  },
  {
   "cell_type": "markdown",
   "id": "3efece5d",
   "metadata": {},
   "source": [
    "3. Find the shape, size and dimension of the following array?\n",
    "\n",
    "[[1, 2, 3, 4]\n",
    "\n",
    "[5, 6, 7, 8],\n",
    "\n",
    "[9, 10, 11, 12]]\n",
    "\n"
   ]
  },
  {
   "cell_type": "code",
   "execution_count": 5,
   "id": "62d77e62",
   "metadata": {},
   "outputs": [
    {
     "name": "stdout",
     "output_type": "stream",
     "text": [
      "Shape of the array: (3, 4)\n",
      "Size of the array: 12\n",
      "Dimension of the array: 2\n"
     ]
    }
   ],
   "source": [
    "import numpy as np\n",
    "\n",
    "array=np.array([[1,2,3,4],[5,6,7,8],[9,10,11,12]])\n",
    "\n",
    "shape=array.shape\n",
    "size=array.size\n",
    "dimension=array.ndim\n",
    "\n",
    "print(\"Shape of the array:\",shape)\n",
    "print(\"Size of the array:\",size)\n",
    "print(\"Dimension of the array:\",dimension)"
   ]
  },
  {
   "cell_type": "markdown",
   "id": "3c832704",
   "metadata": {},
   "source": [
    "4. Write python code to access the first row of the following array?\n",
    "\n",
    " [[1, 2, 3, 4]\n",
    "\n",
    "[5, 6, 7, 8],\n",
    "\n",
    "[9, 10, 11, 12]]"
   ]
  },
  {
   "cell_type": "code",
   "execution_count": 7,
   "id": "66f9b1ee",
   "metadata": {},
   "outputs": [
    {
     "name": "stdout",
     "output_type": "stream",
     "text": [
      "The first row of the array: [1 2 3 4]\n"
     ]
    }
   ],
   "source": [
    "import numpy as np\n",
    "\n",
    "my_array=np.array([[1,2,3,4],[5,6,7,8],[9,10,11,12]])\n",
    "\n",
    "first_row=my_array[0]\n",
    "print(\"The first row of the array:\",first_row)"
   ]
  },
  {
   "cell_type": "markdown",
   "id": "f99678d8",
   "metadata": {},
   "source": [
    "5. How do you access the element at the third row and fourth column from the given numpy array?\n",
    "\n",
    " [[1, 2, 3, 4]\n",
    "\n",
    "[5, 6, 7, 8],\n",
    "\n",
    "[9, 10, 11, 12]]\n",
    "\n"
   ]
  },
  {
   "cell_type": "code",
   "execution_count": 8,
   "id": "324c9abd",
   "metadata": {},
   "outputs": [
    {
     "name": "stdout",
     "output_type": "stream",
     "text": [
      "The third row and fourth column element: 12\n"
     ]
    }
   ],
   "source": [
    "import numpy as np\n",
    "\n",
    "my_array=np.array([[1,2,3,4],[5,6,7,8],[9,10,11,12]])\n",
    "\n",
    "specified_ele=my_array[2][3]\n",
    "print(\"The third row and fourth column element:\",specified_ele)"
   ]
  },
  {
   "cell_type": "markdown",
   "id": "a13c5ca3",
   "metadata": {},
   "source": [
    "6. Write code to extract all odd-indexed elements from the given numpy array?\n",
    "\n",
    " [[1, 2, 3, 4]\n",
    "\n",
    "[5, 6, 7, 8],\n",
    "\n",
    "[9, 10, 11, 12]]\n",
    "\n"
   ]
  },
  {
   "cell_type": "code",
   "execution_count": 10,
   "id": "c379cb7d",
   "metadata": {},
   "outputs": [
    {
     "name": "stdout",
     "output_type": "stream",
     "text": [
      "Odd indexed elements: [[ 2  4]\n",
      " [ 6  8]\n",
      " [10 12]]\n"
     ]
    }
   ],
   "source": [
    "my_arr=np.array([[1,2,3,4],[5,6,7,8],[9,10,11,12]])\n",
    "odd_indexed_ele=my_arr[:,1::2]\n",
    "print('Odd indexed elements:',odd_indexed_ele)"
   ]
  },
  {
   "cell_type": "markdown",
   "id": "a11fc159",
   "metadata": {},
   "source": [
    "7. How can you generate a random 3x3 matrix with values between 0 and 1?"
   ]
  },
  {
   "cell_type": "code",
   "execution_count": 14,
   "id": "72267a51",
   "metadata": {},
   "outputs": [
    {
     "name": "stdout",
     "output_type": "stream",
     "text": [
      "Random 3x3 matrix between the values of 0 and 1 is:\n",
      "[[0.85366911 0.85838637 0.51700885]\n",
      " [0.10053196 0.98542971 0.71847276]\n",
      " [0.11037523 0.83228791 0.06053277]]\n"
     ]
    }
   ],
   "source": [
    "random_matrix=np.random.rand(3,3)\n",
    "print(\"Random 3x3 matrix between the values of 0 and 1 is:\")\n",
    "print(random_matrix)"
   ]
  },
  {
   "cell_type": "markdown",
   "id": "fee48fa2",
   "metadata": {},
   "source": [
    "8. Describe the difference between np.random.rand and np.random.randn?"
   ]
  },
  {
   "cell_type": "code",
   "execution_count": null,
   "id": "ef7314b6",
   "metadata": {},
   "outputs": [],
   "source": []
  },
  {
   "cell_type": "markdown",
   "id": "556fd10c",
   "metadata": {},
   "source": [
    "9. Write code to increase the dimension of the following array?\n",
    "\n",
    " [[1, 2, 3, 4]\n",
    "\n",
    "[5, 6, 7, 8],\n",
    "\n",
    "[9, 10, 11, 12]]"
   ]
  },
  {
   "cell_type": "code",
   "execution_count": 17,
   "id": "c5505175",
   "metadata": {},
   "outputs": [
    {
     "name": "stdout",
     "output_type": "stream",
     "text": [
      "original array: [[ 1  2  3  4]\n",
      " [ 5  6  7  8]\n",
      " [ 9 10 11 12]]\n",
      "After extending dimensions\n",
      "[[[ 1  2  3  4]]\n",
      "\n",
      " [[ 5  6  7  8]]\n",
      "\n",
      " [[ 9 10 11 12]]]\n"
     ]
    }
   ],
   "source": [
    "arr=np.array([[1, 2, 3, 4],[5, 6, 7, 8],[9, 10, 11, 12]])\n",
    "\n",
    "extendend_dim=np.expand_dims(arr,axis=1)\n",
    "print(\"original array:\",arr)\n",
    "print(\"After extending dimensions\")\n",
    "print(extendend_dim)"
   ]
  },
  {
   "cell_type": "markdown",
   "id": "d94b5370",
   "metadata": {},
   "source": [
    "10. How to transpose the following array in NumPy?\n",
    "\n",
    " [[1, 2, 3, 4]\n",
    "\n",
    "[5, 6, 7, 8],\n",
    "\n",
    "[9, 10, 11, 12]]\n",
    "\n",
    "\n"
   ]
  },
  {
   "cell_type": "code",
   "execution_count": 20,
   "id": "06a43da5",
   "metadata": {},
   "outputs": [
    {
     "name": "stdout",
     "output_type": "stream",
     "text": [
      "The original array:\n",
      "[[ 1  2  3  4]\n",
      " [ 5  6  7  8]\n",
      " [ 9 10 11 12]]\n",
      "The transpose array:\n",
      "[[ 1  5  9]\n",
      " [ 2  6 10]\n",
      " [ 3  7 11]\n",
      " [ 4  8 12]]\n"
     ]
    }
   ],
   "source": [
    "original_arr=np.array([[1,2,3,4],[5,6,7,8],[9,10,11,12]])\n",
    "transpose_arr=original_arr.T\n",
    "print(\"The original array:\")\n",
    "print(original_arr)\n",
    "print(\"The transpose array:\")\n",
    "print(transpose_arr)"
   ]
  },
  {
   "cell_type": "markdown",
   "id": "9647f460",
   "metadata": {},
   "source": [
    "11. Consider the following matrix:\n",
    "\n",
    "Matrix A: [[1, 2, 3, 4] [5, 6, 7, 8],[9, 10, 11, 12]]\n",
    "    \n",
    "Matrix B: [[1, 2, 3, 4] [5, 6, 7, 8],[9, 10, 11, 12]]\n",
    "    \n",
    "\n",
    "Perform the following operation using Python\n",
    "\n",
    "i.Index wise multiplication\n",
    "\n",
    "ii.Matrix multiplication\n",
    "\n",
    "iii.Add both the matrics\n",
    "\n",
    "iv.Subtract matrix B from A\n",
    "\n",
    "v.Divide Matrix B by A\n",
    "\n"
   ]
  },
  {
   "cell_type": "code",
   "execution_count": 24,
   "id": "c5945762",
   "metadata": {},
   "outputs": [
    {
     "name": "stdout",
     "output_type": "stream",
     "text": [
      "Matrix A:\n",
      "[[ 1  2  3  4]\n",
      " [ 5  6  7  8]\n",
      " [ 9 10 11 12]]\n",
      "Matrix B:\n",
      "[[ 1  2  3  4]\n",
      " [ 5  6  7  8]\n",
      " [ 9 10 11 12]]\n",
      "The index wise multiplication:\n",
      "[[  1   4   9  16]\n",
      " [ 25  36  49  64]\n",
      " [ 81 100 121 144]]\n",
      "After Adding Both Matrix:\n",
      "[[ 2  4  6  8]\n",
      " [10 12 14 16]\n",
      " [18 20 22 24]]\n",
      "After Substracting B From A:\n",
      "[[0 0 0 0]\n",
      " [0 0 0 0]\n",
      " [0 0 0 0]]\n",
      "After dividing Matrix B by A:\n",
      "[[1. 1. 1. 1.]\n",
      " [1. 1. 1. 1.]\n",
      " [1. 1. 1. 1.]]\n"
     ]
    }
   ],
   "source": [
    "Mat_A=np.array([[1,2,3,4],[5,6,7,8],[9,10,11,12]])\n",
    "Mat_B=np.array([[1,2,3,4],[5,6,7,8],[9,10,11,12]])\n",
    "print(\"Matrix A:\")\n",
    "print(Mat_A)\n",
    "print(\"Matrix B:\")\n",
    "print(Mat_B)\n",
    "#Index Wise Multiplication\n",
    "Index_wise_Mul=Mat_A*Mat_B\n",
    "\n",
    "print(\"The index wise multiplication:\")\n",
    "print(Index_wise_Mul)\n",
    "\n",
    "#Matrix Multiplication\n",
    "#The Question is Wrong As the Matrix Multiplication cannot be done in such dimensions\n",
    "\n",
    "#Add Both Matrics\n",
    "Addition=Mat_A+Mat_B\n",
    "print(\"After Adding Both Matrix:\")\n",
    "print(Addition)\n",
    "\n",
    "#Subtract Matrix B from A\n",
    "subtract=Mat_A-Mat_B\n",
    "print(\"After Substracting B From A:\")\n",
    "print(subtract)\n",
    "\n",
    "#Divide Matrix B by A\n",
    "divide=Mat_B/Mat_A\n",
    "print(\"After dividing Matrix B by A:\")\n",
    "print(divide)"
   ]
  },
  {
   "cell_type": "markdown",
   "id": "a11fcce8",
   "metadata": {},
   "source": [
    "12. Which function in Numpy can be used to swap the byte order of an array?"
   ]
  },
  {
   "cell_type": "markdown",
   "id": "db58822e",
   "metadata": {},
   "source": [
    "In NumPy, the byteswap() function can be used to swap the byte order of an array. This function changes the endianness (byte order) of the array elements. It is useful when working with binary data and dealing with systems that have different endianness.\n",
    "\n",
    "#Example:-"
   ]
  },
  {
   "cell_type": "code",
   "execution_count": 25,
   "id": "45b7b5f8",
   "metadata": {},
   "outputs": [
    {
     "name": "stdout",
     "output_type": "stream",
     "text": [
      "Original Array:\n",
      " [1 2 3 4]\n",
      "Swapped Byte Order Array:\n",
      " [16777216 33554432 50331648 67108864]\n"
     ]
    }
   ],
   "source": [
    "original_array = np.array([1, 2, 3, 4], dtype=np.int32)\n",
    "\n",
    "swapped_array = original_array.byteswap()\n",
    "\n",
    "print(\"Original Array:\\n\", original_array)\n",
    "print(\"Swapped Byte Order Array:\\n\", swapped_array)"
   ]
  },
  {
   "cell_type": "markdown",
   "id": "ed6caa91",
   "metadata": {},
   "source": [
    "13. What is the significance of the np.linalg.inv function?"
   ]
  },
  {
   "cell_type": "markdown",
   "id": "8cd51446",
   "metadata": {},
   "source": [
    "The np.linalg.inv function in NumPy is used to compute the multiplicative inverse of a matrix. \n",
    "\n",
    "Specifically, given a square matrix A, the function returns another matrix A_inv such that the product of A and A_inv is the identity matrix.\n",
    "\n",
    "Example:-"
   ]
  },
  {
   "cell_type": "code",
   "execution_count": 27,
   "id": "f747a0f7",
   "metadata": {},
   "outputs": [
    {
     "name": "stdout",
     "output_type": "stream",
     "text": [
      "Original Matrix A:\n",
      " [[4 7]\n",
      " [2 6]]\n",
      "Inverse Matrix A_inv:\n",
      " [[ 0.6 -0.7]\n",
      " [-0.2  0.4]]\n",
      "Verification (A * A_inv):\n",
      " [[ 1.00000000e+00 -1.11022302e-16]\n",
      " [ 1.11022302e-16  1.00000000e+00]]\n"
     ]
    }
   ],
   "source": [
    "A = np.array([[4, 7],\n",
    "              [2, 6]])\n",
    "\n",
    "A_inv = np.linalg.inv(A)\n",
    "\n",
    "identity_matrix = np.dot(A, A_inv)\n",
    "\n",
    "print(\"Original Matrix A:\\n\", A)\n",
    "print(\"Inverse Matrix A_inv:\\n\", A_inv)\n",
    "print(\"Verification (A * A_inv):\\n\", identity_matrix)\n"
   ]
  },
  {
   "cell_type": "markdown",
   "id": "86c897d7",
   "metadata": {},
   "source": [
    "14. What does the np.reshape function do, and how is it used?"
   ]
  },
  {
   "cell_type": "markdown",
   "id": "025a09ab",
   "metadata": {},
   "source": [
    "The np.reshape function in NumPy is used to change the shape of an array without changing its data. It allows you to specify the new shape (dimensions) that you want for the array. The reshaping operation creates a new view of the original array with the specified shape, and it does not modify the original array's data.\n",
    "\n",
    "The basic Syntax is numpy.reshape(array,newshape)\n",
    "\n",
    "Example:-"
   ]
  },
  {
   "cell_type": "code",
   "execution_count": 28,
   "id": "495c23bd",
   "metadata": {},
   "outputs": [
    {
     "name": "stdout",
     "output_type": "stream",
     "text": [
      "Original Array (1D):\n",
      " [ 0  1  2  3  4  5  6  7  8  9 10 11]\n",
      "\n",
      "Reshaped Array (3x4):\n",
      " [[ 0  1  2  3]\n",
      " [ 4  5  6  7]\n",
      " [ 8  9 10 11]]\n"
     ]
    }
   ],
   "source": [
    "original_array = np.arange(12)\n",
    "\n",
    "reshaped_array = np.reshape(original_array, (3, 4))\n",
    "\n",
    "print(\"Original Array (1D):\\n\", original_array)\n",
    "print(\"\\nReshaped Array (3x4):\\n\", reshaped_array)\n"
   ]
  },
  {
   "cell_type": "markdown",
   "id": "22ba1f60",
   "metadata": {},
   "source": [
    "15. What is broadcasting in Numpy?\n"
   ]
  },
  {
   "cell_type": "markdown",
   "id": "6f63e58b",
   "metadata": {},
   "source": [
    "Broadcasting in NumPy is a powerful mechanism that allows arrays of different shapes to be combined and operated upon. It provides a way to perform element-wise operations on arrays of different shapes without explicitly reshaping them. Broadcasting automatically expands the smaller array to match the shape of the larger one, making certain operations more convenient and efficient.\n",
    "\n",
    "Example:-"
   ]
  },
  {
   "cell_type": "code",
   "execution_count": 29,
   "id": "7f0a1d87",
   "metadata": {},
   "outputs": [
    {
     "name": "stdout",
     "output_type": "stream",
     "text": [
      "Original Matrix:\n",
      " [[1 2 3]\n",
      " [4 5 6]\n",
      " [7 8 9]]\n",
      "\n",
      "Row Addition using Broadcasting:\n",
      " [[11 22 33]\n",
      " [14 25 36]\n",
      " [17 28 39]]\n"
     ]
    }
   ],
   "source": [
    "matrix = np.array([[1, 2, 3], [4, 5, 6], [7, 8, 9]])\n",
    "row_addition = matrix + np.array([10, 20, 30])\n",
    "print(\"Original Matrix:\\n\", matrix)\n",
    "print(\"\\nRow Addition using Broadcasting:\\n\", row_addition)"
   ]
  },
  {
   "cell_type": "code",
   "execution_count": null,
   "id": "1f93b478",
   "metadata": {},
   "outputs": [],
   "source": []
  }
 ],
 "metadata": {
  "kernelspec": {
   "display_name": "Python 3 (ipykernel)",
   "language": "python",
   "name": "python3"
  },
  "language_info": {
   "codemirror_mode": {
    "name": "ipython",
    "version": 3
   },
   "file_extension": ".py",
   "mimetype": "text/x-python",
   "name": "python",
   "nbconvert_exporter": "python",
   "pygments_lexer": "ipython3",
   "version": "3.11.5"
  }
 },
 "nbformat": 4,
 "nbformat_minor": 5
}
